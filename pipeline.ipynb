{
 "cells": [
  {
   "cell_type": "code",
   "execution_count": 1,
   "metadata": {},
   "outputs": [],
   "source": [
    "import warnings \n",
    "warnings.filterwarnings(\"ignore\")\n",
    "\n",
    "import sys\n",
    "sys.dont_write_bytecode = True"
   ]
  },
  {
   "cell_type": "code",
   "execution_count": 2,
   "metadata": {},
   "outputs": [],
   "source": [
    "import pandas as pd\n",
    "import numpy as np\n",
    "import json\n",
    "\n",
    "from algorithms.clustering import hierarchical, kmeans , dbscan\n",
    "from algorithms.associate_rule_mining import apriori, fpgrowth\n",
    "from algorithms.forecasting import predictions\n",
    "\n",
    "import utils.clustering as clustering_utils\n",
    "import utils.forecasting as forecasting_utils\n",
    "import utils.comparison as comparison_utils"
   ]
  },
  {
   "cell_type": "code",
   "execution_count": 5,
   "metadata": {},
   "outputs": [],
   "source": [
    "ecommerce_df = pd.read_csv(\"./data/e-commerce-data.csv\", encoding= 'unicode_escape')"
   ]
  },
  {
   "cell_type": "code",
   "execution_count": 4,
   "metadata": {},
   "outputs": [
    {
     "name": "stdout",
     "output_type": "stream",
     "text": [
      "Total number of outliers is: 434\n"
     ]
    }
   ],
   "source": [
    "clustering_df = clustering_utils.preprocess(ecommerce_df)\n",
    "clustering_data   = clustering_utils.get_data(clustering_df)\n",
    "\n",
    "kmeans_model = kmeans.KMeans(n_clusters = 4)\n",
    "kmeans_labels = kmeans_model.get_labels(clustering_data)\n",
    "\n",
    "dbscan_model = dbscan.DBSCAN(eps=0.15, min_samples=15)\n",
    "dbscan_labels = dbscan_model.get_labels(clustering_data)\n",
    "\n",
    "hierarchical_model = hierarchical.HierarchicalClustering(n_clusters= 4)\n",
    "hierarchical_labels = hierarchical_model.get_labels(clustering_data)"
   ]
  },
  {
   "cell_type": "code",
   "execution_count": 5,
   "metadata": {},
   "outputs": [
    {
     "name": "stdout",
     "output_type": "stream",
     "text": [
      "3904 4\n",
      "3904 4\n",
      "3904 4\n"
     ]
    }
   ],
   "source": [
    "print(len(kmeans_labels), len(set(kmeans_labels)))\n",
    "print(len(dbscan_labels), len(set(dbscan_labels)))\n",
    "print(len(hierarchical_labels), len(set(hierarchical_labels)))"
   ]
  },
  {
   "cell_type": "code",
   "execution_count": null,
   "metadata": {},
   "outputs": [],
   "source": [
    "customer_clusters_kmeans, customer_clusters_dbscan, customer_clusters_hierarchical = clustering_df, clustering_df, clustering_df\n",
    "customer_clusters_kmeans['Cluster'] = kmeans_labels\n",
    "customer_clusters_dbscan['Cluster'] = dbscan_labels\n",
    "customer_clusters_hierarchical['Cluster'] = hierarchical_labels"
   ]
  },
  {
   "cell_type": "code",
   "execution_count": null,
   "metadata": {},
   "outputs": [
    {
     "name": "stderr",
     "output_type": "stream",
     "text": [
      "d:\\Mihir\\IIT Indore BTech CSE\\Academic\\Sem6 Material\\CS 354 Lab (Computational Intelligence)\\Project\\Code\\venv\\lib\\site-packages\\mlxtend\\frequent_patterns\\fpcommon.py:111: DeprecationWarning: DataFrames with non-bool types result in worse computationalperformance and their support might be discontinued in the future.Please use a DataFrame with bool type\n",
      "  warnings.warn(\n",
      "d:\\Mihir\\IIT Indore BTech CSE\\Academic\\Sem6 Material\\CS 354 Lab (Computational Intelligence)\\Project\\Code\\venv\\lib\\site-packages\\mlxtend\\frequent_patterns\\fpcommon.py:111: DeprecationWarning: DataFrames with non-bool types result in worse computationalperformance and their support might be discontinued in the future.Please use a DataFrame with bool type\n",
      "  warnings.warn(\n",
      "d:\\Mihir\\IIT Indore BTech CSE\\Academic\\Sem6 Material\\CS 354 Lab (Computational Intelligence)\\Project\\Code\\venv\\lib\\site-packages\\mlxtend\\frequent_patterns\\fpcommon.py:111: DeprecationWarning: DataFrames with non-bool types result in worse computationalperformance and their support might be discontinued in the future.Please use a DataFrame with bool type\n",
      "  warnings.warn(\n",
      "d:\\Mihir\\IIT Indore BTech CSE\\Academic\\Sem6 Material\\CS 354 Lab (Computational Intelligence)\\Project\\Code\\venv\\lib\\site-packages\\mlxtend\\frequent_patterns\\fpcommon.py:111: DeprecationWarning: DataFrames with non-bool types result in worse computationalperformance and their support might be discontinued in the future.Please use a DataFrame with bool type\n",
      "  warnings.warn(\n",
      "d:\\Mihir\\IIT Indore BTech CSE\\Academic\\Sem6 Material\\CS 354 Lab (Computational Intelligence)\\Project\\Code\\venv\\lib\\site-packages\\mlxtend\\frequent_patterns\\fpcommon.py:111: DeprecationWarning: DataFrames with non-bool types result in worse computationalperformance and their support might be discontinued in the future.Please use a DataFrame with bool type\n",
      "  warnings.warn(\n",
      "d:\\Mihir\\IIT Indore BTech CSE\\Academic\\Sem6 Material\\CS 354 Lab (Computational Intelligence)\\Project\\Code\\venv\\lib\\site-packages\\mlxtend\\frequent_patterns\\fpcommon.py:111: DeprecationWarning: DataFrames with non-bool types result in worse computationalperformance and their support might be discontinued in the future.Please use a DataFrame with bool type\n",
      "  warnings.warn(\n",
      "d:\\Mihir\\IIT Indore BTech CSE\\Academic\\Sem6 Material\\CS 354 Lab (Computational Intelligence)\\Project\\Code\\venv\\lib\\site-packages\\mlxtend\\frequent_patterns\\fpcommon.py:111: DeprecationWarning: DataFrames with non-bool types result in worse computationalperformance and their support might be discontinued in the future.Please use a DataFrame with bool type\n",
      "  warnings.warn(\n",
      "d:\\Mihir\\IIT Indore BTech CSE\\Academic\\Sem6 Material\\CS 354 Lab (Computational Intelligence)\\Project\\Code\\venv\\lib\\site-packages\\mlxtend\\frequent_patterns\\fpcommon.py:111: DeprecationWarning: DataFrames with non-bool types result in worse computationalperformance and their support might be discontinued in the future.Please use a DataFrame with bool type\n",
      "  warnings.warn(\n",
      "d:\\Mihir\\IIT Indore BTech CSE\\Academic\\Sem6 Material\\CS 354 Lab (Computational Intelligence)\\Project\\Code\\venv\\lib\\site-packages\\mlxtend\\frequent_patterns\\fpcommon.py:111: DeprecationWarning: DataFrames with non-bool types result in worse computationalperformance and their support might be discontinued in the future.Please use a DataFrame with bool type\n",
      "  warnings.warn(\n",
      "d:\\Mihir\\IIT Indore BTech CSE\\Academic\\Sem6 Material\\CS 354 Lab (Computational Intelligence)\\Project\\Code\\venv\\lib\\site-packages\\mlxtend\\frequent_patterns\\fpcommon.py:111: DeprecationWarning: DataFrames with non-bool types result in worse computationalperformance and their support might be discontinued in the future.Please use a DataFrame with bool type\n",
      "  warnings.warn(\n",
      "d:\\Mihir\\IIT Indore BTech CSE\\Academic\\Sem6 Material\\CS 354 Lab (Computational Intelligence)\\Project\\Code\\venv\\lib\\site-packages\\mlxtend\\frequent_patterns\\fpcommon.py:111: DeprecationWarning: DataFrames with non-bool types result in worse computationalperformance and their support might be discontinued in the future.Please use a DataFrame with bool type\n",
      "  warnings.warn(\n",
      "d:\\Mihir\\IIT Indore BTech CSE\\Academic\\Sem6 Material\\CS 354 Lab (Computational Intelligence)\\Project\\Code\\venv\\lib\\site-packages\\mlxtend\\frequent_patterns\\fpcommon.py:111: DeprecationWarning: DataFrames with non-bool types result in worse computationalperformance and their support might be discontinued in the future.Please use a DataFrame with bool type\n",
      "  warnings.warn(\n"
     ]
    },
    {
     "name": "stdout",
     "output_type": "stream",
     "text": [
      "best cluster by kmeans\n"
     ]
    }
   ],
   "source": [
    "customer_clusters = comparison_utils.get_best_clusters(ecommerce_df, customer_clusters_kmeans, customer_clusters_dbscan, customer_clusters_hierarchical)"
   ]
  },
  {
   "cell_type": "code",
   "execution_count": null,
   "metadata": {},
   "outputs": [
    {
     "name": "stderr",
     "output_type": "stream",
     "text": [
      "d:\\Mihir\\IIT Indore BTech CSE\\Academic\\Sem6 Material\\CS 354 Lab (Computational Intelligence)\\Project\\Code\\venv\\lib\\site-packages\\mlxtend\\frequent_patterns\\fpcommon.py:111: DeprecationWarning: DataFrames with non-bool types result in worse computationalperformance and their support might be discontinued in the future.Please use a DataFrame with bool type\n",
      "  warnings.warn(\n",
      "d:\\Mihir\\IIT Indore BTech CSE\\Academic\\Sem6 Material\\CS 354 Lab (Computational Intelligence)\\Project\\Code\\venv\\lib\\site-packages\\mlxtend\\frequent_patterns\\fpcommon.py:111: DeprecationWarning: DataFrames with non-bool types result in worse computationalperformance and their support might be discontinued in the future.Please use a DataFrame with bool type\n",
      "  warnings.warn(\n",
      "d:\\Mihir\\IIT Indore BTech CSE\\Academic\\Sem6 Material\\CS 354 Lab (Computational Intelligence)\\Project\\Code\\venv\\lib\\site-packages\\mlxtend\\frequent_patterns\\fpcommon.py:111: DeprecationWarning: DataFrames with non-bool types result in worse computationalperformance and their support might be discontinued in the future.Please use a DataFrame with bool type\n",
      "  warnings.warn(\n",
      "d:\\Mihir\\IIT Indore BTech CSE\\Academic\\Sem6 Material\\CS 354 Lab (Computational Intelligence)\\Project\\Code\\venv\\lib\\site-packages\\mlxtend\\frequent_patterns\\fpcommon.py:111: DeprecationWarning: DataFrames with non-bool types result in worse computationalperformance and their support might be discontinued in the future.Please use a DataFrame with bool type\n",
      "  warnings.warn(\n",
      "d:\\Mihir\\IIT Indore BTech CSE\\Academic\\Sem6 Material\\CS 354 Lab (Computational Intelligence)\\Project\\Code\\venv\\lib\\site-packages\\mlxtend\\frequent_patterns\\fpcommon.py:111: DeprecationWarning: DataFrames with non-bool types result in worse computationalperformance and their support might be discontinued in the future.Please use a DataFrame with bool type\n",
      "  warnings.warn(\n",
      "d:\\Mihir\\IIT Indore BTech CSE\\Academic\\Sem6 Material\\CS 354 Lab (Computational Intelligence)\\Project\\Code\\venv\\lib\\site-packages\\mlxtend\\frequent_patterns\\fpcommon.py:111: DeprecationWarning: DataFrames with non-bool types result in worse computationalperformance and their support might be discontinued in the future.Please use a DataFrame with bool type\n",
      "  warnings.warn(\n",
      "d:\\Mihir\\IIT Indore BTech CSE\\Academic\\Sem6 Material\\CS 354 Lab (Computational Intelligence)\\Project\\Code\\venv\\lib\\site-packages\\mlxtend\\frequent_patterns\\fpcommon.py:111: DeprecationWarning: DataFrames with non-bool types result in worse computationalperformance and their support might be discontinued in the future.Please use a DataFrame with bool type\n",
      "  warnings.warn(\n",
      "d:\\Mihir\\IIT Indore BTech CSE\\Academic\\Sem6 Material\\CS 354 Lab (Computational Intelligence)\\Project\\Code\\venv\\lib\\site-packages\\mlxtend\\frequent_patterns\\fpcommon.py:111: DeprecationWarning: DataFrames with non-bool types result in worse computationalperformance and their support might be discontinued in the future.Please use a DataFrame with bool type\n",
      "  warnings.warn(\n"
     ]
    },
    {
     "name": "stdout",
     "output_type": "stream",
     "text": [
      "                                           antecedents  \\\n",
      "0                        (60 TEATIME FAIRY CAKE CASES)   \n",
      "1                    (PACK OF 72 RETROSPOT CAKE CASES)   \n",
      "2                          (ALARM CLOCK BAKELIKE PINK)   \n",
      "3                         (ALARM CLOCK BAKELIKE GREEN)   \n",
      "4                         (ALARM CLOCK BAKELIKE GREEN)   \n",
      "..                                                 ...   \n",
      "585  (ROSES REGENCY TEACUP AND SAUCER, REGENCY CAKE...   \n",
      "586                   (PINK REGENCY TEACUP AND SAUCER)   \n",
      "587                  (GREEN REGENCY TEACUP AND SAUCER)   \n",
      "588                  (ROSES REGENCY TEACUP AND SAUCER)   \n",
      "589                         (REGENCY CAKESTAND 3 TIER)   \n",
      "\n",
      "                                           consequents zhang metric1  \n",
      "0                    (PACK OF 72 RETROSPOT CAKE CASES)      0.203447  \n",
      "1                        (60 TEATIME FAIRY CAKE CASES)      0.203447  \n",
      "2                         (ALARM CLOCK BAKELIKE GREEN)      0.269169  \n",
      "3                          (ALARM CLOCK BAKELIKE PINK)      0.269169  \n",
      "4                           (ALARM CLOCK BAKELIKE RED)      0.302024  \n",
      "..                                                 ...           ...  \n",
      "585  (PINK REGENCY TEACUP AND SAUCER, GREEN REGENCY...      0.590823  \n",
      "586  (GREEN REGENCY TEACUP AND SAUCER, ROSES REGENC...      0.540591  \n",
      "587  (PINK REGENCY TEACUP AND SAUCER, ROSES REGENCY...      0.400559  \n",
      "588  (PINK REGENCY TEACUP AND SAUCER, GREEN REGENCY...      0.334321  \n",
      "589  (PINK REGENCY TEACUP AND SAUCER, GREEN REGENCY...      0.156036  \n",
      "\n",
      "[5414 rows x 3 columns]\n",
      "                             antecedents                          consequents  \\\n",
      "0              (JUMBO BAG RED RETROSPOT)  (JUMBO SHOPPER VINTAGE RED PAISLEY)   \n",
      "1    (JUMBO SHOPPER VINTAGE RED PAISLEY)            (JUMBO BAG RED RETROSPOT)   \n",
      "2           (ALARM CLOCK BAKELIKE GREEN)           (ALARM CLOCK BAKELIKE RED)   \n",
      "3             (ALARM CLOCK BAKELIKE RED)         (ALARM CLOCK BAKELIKE GREEN)   \n",
      "4        (ASSORTED COLOUR BIRD ORNAMENT)           (REGENCY CAKESTAND 3 TIER)   \n",
      "..                                   ...                                  ...   \n",
      "585            (LUNCH BAG RED RETROSPOT)            (LUNCH BAG VINTAGE DOILY)   \n",
      "586         (CHOCOLATE HOT WATER BOTTLE)         (HOT WATER BOTTLE KEEP CALM)   \n",
      "587         (HOT WATER BOTTLE KEEP CALM)         (CHOCOLATE HOT WATER BOTTLE)   \n",
      "588              (LOVE HOT WATER BOTTLE)         (HOT WATER BOTTLE KEEP CALM)   \n",
      "589         (HOT WATER BOTTLE KEEP CALM)              (LOVE HOT WATER BOTTLE)   \n",
      "\n",
      "    zhang metric2  \n",
      "0        0.156284  \n",
      "1        0.156284  \n",
      "2        0.088592  \n",
      "3        0.088592  \n",
      "4         0.10822  \n",
      "..            ...  \n",
      "585      0.182725  \n",
      "586      0.315654  \n",
      "587      0.315654  \n",
      "588      0.282096  \n",
      "589      0.282096  \n",
      "\n",
      "[5414 rows x 3 columns]\n",
      "                                            antecedents  \\\n",
      "0                         (60 TEATIME FAIRY CAKE CASES)   \n",
      "1                         (60 TEATIME FAIRY CAKE CASES)   \n",
      "2                         (60 TEATIME FAIRY CAKE CASES)   \n",
      "3                         (60 TEATIME FAIRY CAKE CASES)   \n",
      "4                         (60 TEATIME FAIRY CAKE CASES)   \n",
      "...                                                 ...   \n",
      "7049  (ROSES REGENCY TEACUP AND SAUCER, REGENCY CAKE...   \n",
      "7050                   (PINK REGENCY TEACUP AND SAUCER)   \n",
      "7051                  (GREEN REGENCY TEACUP AND SAUCER)   \n",
      "7052                  (ROSES REGENCY TEACUP AND SAUCER)   \n",
      "7053                         (REGENCY CAKESTAND 3 TIER)   \n",
      "\n",
      "                                            consequents zhang metric1  \\\n",
      "0                     (PACK OF 72 RETROSPOT CAKE CASES)      0.203447   \n",
      "1                     (PACK OF 72 RETROSPOT CAKE CASES)      0.203447   \n",
      "2                     (PACK OF 72 RETROSPOT CAKE CASES)      0.203447   \n",
      "3                     (PACK OF 72 RETROSPOT CAKE CASES)      0.592916   \n",
      "4                     (PACK OF 72 RETROSPOT CAKE CASES)      0.592916   \n",
      "...                                                 ...           ...   \n",
      "7049  (PINK REGENCY TEACUP AND SAUCER, GREEN REGENCY...      0.590823   \n",
      "7050  (GREEN REGENCY TEACUP AND SAUCER, ROSES REGENC...      0.540591   \n",
      "7051  (PINK REGENCY TEACUP AND SAUCER, ROSES REGENCY...      0.400559   \n",
      "7052  (PINK REGENCY TEACUP AND SAUCER, GREEN REGENCY...      0.334321   \n",
      "7053  (PINK REGENCY TEACUP AND SAUCER, GREEN REGENCY...      0.156036   \n",
      "\n",
      "     zhang metric2  \n",
      "0         0.321406  \n",
      "1         0.492224  \n",
      "2         0.203447  \n",
      "3         0.321406  \n",
      "4         0.492224  \n",
      "...            ...  \n",
      "7049      0.590823  \n",
      "7050      0.540591  \n",
      "7051      0.400559  \n",
      "7052      0.334321  \n",
      "7053      0.156036  \n",
      "\n",
      "[7054 rows x 4 columns]\n",
      "best rules by apriori\n"
     ]
    }
   ],
   "source": [
    "apriori_model = apriori.Apriori()\n",
    "associate_rules_apriori = apriori_model.get_associate_rules(ecommerce_df, customer_clusters)\n",
    "\n",
    "fp_growth_model =fpgrowth.Fpgrowth()\n",
    "associate_rules_fp_growth = fp_growth_model.get_associate_rules(ecommerce_df, customer_clusters)\n",
    "\n",
    "associate_rules = comparison_utils.get_best_associate_rules(associate_rules_apriori, associate_rules_fp_growth)"
   ]
  },
  {
   "cell_type": "code",
   "execution_count": null,
   "metadata": {},
   "outputs": [],
   "source": [
    "associate_rules.to_csv(\"associate_rules.csv\", index=False)"
   ]
  },
  {
   "cell_type": "code",
   "execution_count": null,
   "metadata": {},
   "outputs": [],
   "source": [
    "prediction_df = forecasting_utils.prediction_preprocess(ecommerce_df)\n",
    "predictions_model = predictions.Predictions()\n",
    "predictions_model.get_associate_ruls(prediction_df)\n",
    "prediction_df = predictions_model.get_predictions(ecommerce_df, prediction_df)"
   ]
  },
  {
   "cell_type": "code",
   "execution_count": null,
   "metadata": {},
   "outputs": [],
   "source": [
    "prediction_df.to_csv(\"prediction.csv\",index=False)"
   ]
  },
  {
   "cell_type": "code",
   "execution_count": 3,
   "metadata": {},
   "outputs": [],
   "source": [
    "prediction_df = pd.read_csv(\"data/prediction.csv\")\n",
    "prediction_df['Customer basket'] = prediction_df['Customer basket'].apply(lambda x: eval(x))"
   ]
  },
  {
   "cell_type": "code",
   "execution_count": null,
   "metadata": {},
   "outputs": [],
   "source": [
    "price_add_by_date = forecasting_utils.get_price_add_by_date(ecommerce_df, prediction_df)"
   ]
  },
  {
   "cell_type": "code",
   "execution_count": null,
   "metadata": {},
   "outputs": [],
   "source": [
    "with open(\"price_add_by_date.json\", \"w\") as outfile:\n",
    "    json.dump(price_add_by_date, outfile)"
   ]
  },
  {
   "cell_type": "code",
   "execution_count": 7,
   "metadata": {},
   "outputs": [],
   "source": [
    "with open('data/price_add_by_date.json') as json_file:\n",
    "    price_add_by_date = json.load(json_file)"
   ]
  },
  {
   "cell_type": "code",
   "execution_count": 8,
   "metadata": {},
   "outputs": [
    {
     "ename": "ValueError",
     "evalue": "time data '0' does not match format '%Y-%m-%d %H:%M:%S'",
     "output_type": "error",
     "traceback": [
      "\u001b[1;31m---------------------------------------------------------------------------\u001b[0m",
      "\u001b[1;31mValueError\u001b[0m                                Traceback (most recent call last)",
      "Cell \u001b[1;32mIn[8], line 1\u001b[0m\n\u001b[1;32m----> 1\u001b[0m sales_by_date \u001b[39m=\u001b[39m forecasting_utils\u001b[39m.\u001b[39;49mtime_series_preprocess(ecommerce_df, price_add_by_date)\n\u001b[0;32m      2\u001b[0m \u001b[39mprint\u001b[39m(sales_by_date\u001b[39m.\u001b[39mhead())\n\u001b[0;32m      3\u001b[0m forecasting_utils\u001b[39m.\u001b[39mvisualize(sales_by_date)\n",
      "File \u001b[1;32md:\\Mihir\\IIT Indore BTech CSE\\Academic\\Sem6 Material\\CS 354 Lab (Computational Intelligence)\\Project\\Code\\utils\\forecasting.py:30\u001b[0m, in \u001b[0;36mtime_series_preprocess\u001b[1;34m(ecommerce_df, price_add_by_date)\u001b[0m\n\u001b[0;32m     28\u001b[0m additional_sales \u001b[39m=\u001b[39m []\n\u001b[0;32m     29\u001b[0m \u001b[39mfor\u001b[39;00m date_time \u001b[39min\u001b[39;00m sales_by_date\u001b[39m.\u001b[39mindex:\n\u001b[1;32m---> 30\u001b[0m     datetime_obj \u001b[39m=\u001b[39m datetime\u001b[39m.\u001b[39;49mstrptime(\u001b[39mstr\u001b[39;49m(date_time), \u001b[39m'\u001b[39;49m\u001b[39m%\u001b[39;49m\u001b[39mY-\u001b[39;49m\u001b[39m%\u001b[39;49m\u001b[39mm-\u001b[39;49m\u001b[39m%d\u001b[39;49;00m\u001b[39m \u001b[39;49m\u001b[39m%\u001b[39;49m\u001b[39mH:\u001b[39;49m\u001b[39m%\u001b[39;49m\u001b[39mM:\u001b[39;49m\u001b[39m%\u001b[39;49m\u001b[39mS\u001b[39;49m\u001b[39m'\u001b[39;49m)\n\u001b[0;32m     31\u001b[0m     date \u001b[39m=\u001b[39m datetime_obj\u001b[39m.\u001b[39mstrftime(\u001b[39m'\u001b[39m\u001b[39m%\u001b[39m\u001b[39mY-\u001b[39m\u001b[39m%\u001b[39m\u001b[39mm-\u001b[39m\u001b[39m%d\u001b[39;00m\u001b[39m'\u001b[39m)\n\u001b[0;32m     32\u001b[0m     additional_sales\u001b[39m.\u001b[39mappend(price_add_by_date[date])\n",
      "File \u001b[1;32m~\\AppData\\Local\\Programs\\Python\\Python310\\lib\\_strptime.py:568\u001b[0m, in \u001b[0;36m_strptime_datetime\u001b[1;34m(cls, data_string, format)\u001b[0m\n\u001b[0;32m    565\u001b[0m \u001b[39mdef\u001b[39;00m \u001b[39m_strptime_datetime\u001b[39m(\u001b[39mcls\u001b[39m, data_string, \u001b[39mformat\u001b[39m\u001b[39m=\u001b[39m\u001b[39m\"\u001b[39m\u001b[39m%a\u001b[39;00m\u001b[39m \u001b[39m\u001b[39m%\u001b[39m\u001b[39mb \u001b[39m\u001b[39m%d\u001b[39;00m\u001b[39m \u001b[39m\u001b[39m%\u001b[39m\u001b[39mH:\u001b[39m\u001b[39m%\u001b[39m\u001b[39mM:\u001b[39m\u001b[39m%\u001b[39m\u001b[39mS \u001b[39m\u001b[39m%\u001b[39m\u001b[39mY\u001b[39m\u001b[39m\"\u001b[39m):\n\u001b[0;32m    566\u001b[0m \u001b[39m    \u001b[39m\u001b[39m\"\"\"Return a class cls instance based on the input string and the\u001b[39;00m\n\u001b[0;32m    567\u001b[0m \u001b[39m    format string.\"\"\"\u001b[39;00m\n\u001b[1;32m--> 568\u001b[0m     tt, fraction, gmtoff_fraction \u001b[39m=\u001b[39m _strptime(data_string, \u001b[39mformat\u001b[39;49m)\n\u001b[0;32m    569\u001b[0m     tzname, gmtoff \u001b[39m=\u001b[39m tt[\u001b[39m-\u001b[39m\u001b[39m2\u001b[39m:]\n\u001b[0;32m    570\u001b[0m     args \u001b[39m=\u001b[39m tt[:\u001b[39m6\u001b[39m] \u001b[39m+\u001b[39m (fraction,)\n",
      "File \u001b[1;32m~\\AppData\\Local\\Programs\\Python\\Python310\\lib\\_strptime.py:349\u001b[0m, in \u001b[0;36m_strptime\u001b[1;34m(data_string, format)\u001b[0m\n\u001b[0;32m    347\u001b[0m found \u001b[39m=\u001b[39m format_regex\u001b[39m.\u001b[39mmatch(data_string)\n\u001b[0;32m    348\u001b[0m \u001b[39mif\u001b[39;00m \u001b[39mnot\u001b[39;00m found:\n\u001b[1;32m--> 349\u001b[0m     \u001b[39mraise\u001b[39;00m \u001b[39mValueError\u001b[39;00m(\u001b[39m\"\u001b[39m\u001b[39mtime data \u001b[39m\u001b[39m%r\u001b[39;00m\u001b[39m does not match format \u001b[39m\u001b[39m%r\u001b[39;00m\u001b[39m\"\u001b[39m \u001b[39m%\u001b[39m\n\u001b[0;32m    350\u001b[0m                      (data_string, \u001b[39mformat\u001b[39m))\n\u001b[0;32m    351\u001b[0m \u001b[39mif\u001b[39;00m \u001b[39mlen\u001b[39m(data_string) \u001b[39m!=\u001b[39m found\u001b[39m.\u001b[39mend():\n\u001b[0;32m    352\u001b[0m     \u001b[39mraise\u001b[39;00m \u001b[39mValueError\u001b[39;00m(\u001b[39m\"\u001b[39m\u001b[39munconverted data remains: \u001b[39m\u001b[39m%s\u001b[39;00m\u001b[39m\"\u001b[39m \u001b[39m%\u001b[39m\n\u001b[0;32m    353\u001b[0m                       data_string[found\u001b[39m.\u001b[39mend():])\n",
      "\u001b[1;31mValueError\u001b[0m: time data '0' does not match format '%Y-%m-%d %H:%M:%S'"
     ]
    }
   ],
   "source": [
    "sales_by_date = forecasting_utils.time_series_preprocess(ecommerce_df, price_add_by_date)\n",
    "print(sales_by_date.head())\n",
    "forecasting_utils.visualize(sales_by_date)"
   ]
  },
  {
   "cell_type": "code",
   "execution_count": 125,
   "metadata": {},
   "outputs": [
    {
     "name": "stdout",
     "output_type": "stream",
     "text": [
      "305 (305, 1)\n"
     ]
    }
   ],
   "source": []
  },
  {
   "cell_type": "code",
   "execution_count": 128,
   "metadata": {},
   "outputs": [
    {
     "data": {
      "image/png": "[encoded data removed]",
      "text/plain": [
       "<Figure size 640x480 with 1 Axes>"
      ]
     },
     "metadata": {},
     "output_type": "display_data"
    }
   ],
   "source": [
    "predictions_model = predictions.Predictions()\n",
    "predictions_model.get_sales_by_date(sales_by_date, 10, 1, 10, 50)"
   ]
  }
 ],
 "metadata": {
  "kernelspec": {
   "display_name": "venv",
   "language": "python",
   "name": "python3"
  },
  "language_info": {
   "codemirror_mode": {
    "name": "ipython",
    "version": 3
   },
   "file_extension": ".py",
   "mimetype": "text/x-python",
   "name": "python",
   "nbconvert_exporter": "python",
   "pygments_lexer": "ipython3",
   "version": "3.10.6"
  },
  "orig_nbformat": 4
 },
 "nbformat": 4,
 "nbformat_minor": 2
}
